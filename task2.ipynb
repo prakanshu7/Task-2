{
 "cells": [
  {
   "cell_type": "markdown",
   "metadata": {},
   "source": [
    "\n",
    "## Registration/referral ID - SIRSS2327.\n",
    "## Full Name: PRAKANSHU PATHAK. "
   ]
  },
  {
   "cell_type": "markdown",
   "metadata": {},
   "source": [
    "#  Assignment 2\n",
    "\n",
    "## Q1. Write a lambda expression to extract first word of the string"
   ]
  },
  {
   "cell_type": "code",
   "execution_count": 1,
   "metadata": {},
   "outputs": [
    {
     "name": "stdout",
     "output_type": "stream",
     "text": [
      "McLaren\n"
     ]
    }
   ],
   "source": [
    "string = \"McLaren P1 is a limited-production mid-engine plug-in hybrid sports car\"\n",
    "first_word = lambda i: string.split()[i]\n",
    "print(first_word(0))"
   ]
  },
  {
   "cell_type": "markdown",
   "metadata": {},
   "source": [
    "## Q2. Write a function to extract first word of s string(with many word seperated by space)"
   ]
  },
  {
   "cell_type": "code",
   "execution_count": 2,
   "metadata": {},
   "outputs": [
    {
     "data": {
      "text/plain": [
       "'Aventador'"
      ]
     },
     "execution_count": 2,
     "metadata": {},
     "output_type": "execute_result"
    }
   ],
   "source": [
    "str1 = \" Aventador advances every concept of performance, and best out there in the market.\"\n",
    "\n",
    "def fword(string):\n",
    "    return string.split()[0]\n",
    "\n",
    "fword(str1)"
   ]
  },
  {
   "cell_type": "markdown",
   "metadata": {},
   "source": [
    "## Q3. Extract the first word from every string from a list of strings by using map function"
   ]
  },
  {
   "cell_type": "code",
   "execution_count": 3,
   "metadata": {},
   "outputs": [
    {
     "name": "stdout",
     "output_type": "stream",
     "text": [
      "['The', 'Brand', 'Performance', 'Speed']\n"
     ]
    }
   ],
   "source": [
    "\n",
    "l1 = [\"The word supercar is thrown around describing various high performance cars\",\n",
    "        \"Brand name is important because of  heritage and history\",\n",
    "        \"Performance is made up of three parts: handling, power, and speed\",\n",
    "        \"Speed is one of the most important aspects in a vehicle becoming a supercar\"]\n",
    "def fword(string):\n",
    "    return string.split()[0]\n",
    "res = list(map(fword,l1))\n",
    "print(res)"
   ]
  },
  {
   "cell_type": "markdown",
   "metadata": {},
   "source": [
    "\n",
    "## Q4. Write a function to return a list of prime factors of a given number."
   ]
  },
  {
   "cell_type": "code",
   "execution_count": 1,
   "metadata": {},
   "outputs": [
    {
     "name": "stdout",
     "output_type": "stream",
     "text": [
      "[7, 29]\n"
     ]
    }
   ],
   "source": [
    "def prime_factor(x):\n",
    "    p_fact = []\n",
    "    div = 2\n",
    "\n",
    "    while div <= x:\n",
    "        if x%div == 0:\n",
    "            p_fact.append(div)\n",
    "            x = x/div\n",
    "        else:\n",
    "            div += 1\n",
    "    return p_fact\n",
    "\n",
    "a = int(input(\"Enter a number :\"))\n",
    "print(prime_factor(a))"
   ]
  },
  {
   "cell_type": "markdown",
   "metadata": {},
   "source": [
    "## Q5. Write a function that finds 2nd largest among 4 numbers (Repetitions are allowed, without sorting)."
   ]
  },
  {
   "cell_type": "code",
   "execution_count": 4,
   "metadata": {},
   "outputs": [
    {
     "name": "stdout",
     "output_type": "stream",
     "text": [
      "6\n"
     ]
    }
   ],
   "source": [
    "a = input()\n",
    "l1 = a.split()\n",
    "\n",
    "l1 = set(l1)\n",
    "\n",
    "def second_largest():\n",
    "    \n",
    "    l1.remove(max(l1))\n",
    "    \n",
    "    print(max(l1))\n",
    "    \n",
    "second_largest()"
   ]
  }
 ],
 "metadata": {
  "interpreter": {
   "hash": "33dc6d49505b4536b6a128d9d7c879e1fa44477ad44947bbbe73093067fe6393"
  },
  "kernelspec": {
   "display_name": "Python 3",
   "language": "python",
   "name": "python3"
  },
  "language_info": {
   "codemirror_mode": {
    "name": "ipython",
    "version": 3
   },
   "file_extension": ".py",
   "mimetype": "text/x-python",
   "name": "python",
   "nbconvert_exporter": "python",
   "pygments_lexer": "ipython3",
   "version": "3.8.8"
  }
 },
 "nbformat": 4,
 "nbformat_minor": 2
}
